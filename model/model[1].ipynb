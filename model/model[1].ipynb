{
 "cells": [
  {
   "cell_type": "code",
   "execution_count": null,
   "metadata": {},
   "outputs": [
    {
     "name": "stdout",
     "output_type": "stream",
     "text": [
      "All libraries imported successfully.\n"
     ]
    }
   ],
   "source": [
    "import os\n",
    "import time\n",
    "import pandas as pd \n",
    "import numpy as np\n",
    "\n",
    "# Scikit-learn modules\n",
    "from sklearn.model_selection import train_test_split\n",
    "from sklearn.feature_extraction.text import TfidfVectorizer\n",
    "from sklearn.ensemble import RandomForestClassifier\n",
    "from sklearn.svm import LinearSVC\n",
    "from sklearn.calibration import CalibratedClassifierCV\n",
    "from sklearn.metrics import (accuracy_score, confusion_matrix, classification_report,\n",
    "                             roc_curve, roc_auc_score)\n",
    "\n",
    "# XGBoost (we will check for GPU support)\n",
    "import xgboost as xgb\n",
    "\n",
    "# For progress monitoring\n",
    "from tqdm.auto import tqdm\n",
    "\n",
    "# For plotting ROC curve\n",
    "import matplotlib.pyplot as plt\n",
    "\n",
    "print(\"All libraries imported successfully.\")\n"
   ]
  },
  {
   "cell_type": "code",
   "execution_count": 20,
   "metadata": {},
   "outputs": [
    {
     "name": "stdout",
     "output_type": "stream",
     "text": [
      "Original dataset shape: (3962235, 18)\n"
     ]
    }
   ],
   "source": [
    "# Define the path to the preprocessed CSV data\n",
    "preprocessed_data_path = r\"C:\\Users\\prana\\Desktop\\AI Lab Project\\preprocessed_amazon_reviews.csv\"\n",
    "\n",
    "# Load the dataset\n",
    "df = pd.read_csv(preprocessed_data_path)\n",
    "print(\"Original dataset shape:\", df.shape)\n"
   ]
  },
  {
   "cell_type": "code",
   "execution_count": 21,
   "metadata": {},
   "outputs": [
    {
     "name": "stdout",
     "output_type": "stream",
     "text": [
      "Shape after dropping missing values: (3962104, 2)\n"
     ]
    }
   ],
   "source": [
    "# Keep only the relevant columns for training\n",
    "df = df[['clean_review', 'sentiment']]\n",
    "\n",
    "# Drop rows with missing values in these columns only\n",
    "df = df.dropna(subset=['clean_review', 'sentiment'])\n",
    "print(\"Shape after dropping missing values:\", df.shape)\n"
   ]
  },
  {
   "cell_type": "code",
   "execution_count": 22,
   "metadata": {},
   "outputs": [
    {
     "name": "stdout",
     "output_type": "stream",
     "text": [
      "Sampled dataset shape: (396210, 2)\n"
     ]
    }
   ],
   "source": [
    "sample_fraction = 0.1  # e.g., 10% of data\n",
    "df_sampled = df.sample(frac=sample_fraction, random_state=42)\n",
    "print(\"Sampled dataset shape:\", df_sampled.shape)\n"
   ]
  },
  {
   "cell_type": "code",
   "execution_count": 23,
   "metadata": {},
   "outputs": [],
   "source": [
    "X = df_sampled['clean_review']\n",
    "y = df_sampled['sentiment']\n"
   ]
  },
  {
   "cell_type": "code",
   "execution_count": 24,
   "metadata": {},
   "outputs": [
    {
     "name": "stdout",
     "output_type": "stream",
     "text": [
      "Training samples: 316968\n",
      "Testing samples: 79242\n"
     ]
    }
   ],
   "source": [
    "X_train, X_test, y_train, y_test = train_test_split(X, y, test_size=0.2, random_state=42)\n",
    "print(\"Training samples:\", X_train.shape[0])\n",
    "print(\"Testing samples:\", X_test.shape[0])\n"
   ]
  },
  {
   "cell_type": "code",
   "execution_count": 2,
   "metadata": {},
   "outputs": [
    {
     "ename": "NameError",
     "evalue": "name 'X_train' is not defined",
     "output_type": "error",
     "traceback": [
      "\u001b[31m---------------------------------------------------------------------------\u001b[39m",
      "\u001b[31mNameError\u001b[39m                                 Traceback (most recent call last)",
      "\u001b[36mCell\u001b[39m\u001b[36m \u001b[39m\u001b[32mIn[2]\u001b[39m\u001b[32m, line 3\u001b[39m\n\u001b[32m      1\u001b[39m \u001b[38;5;28;01mfrom\u001b[39;00m\u001b[38;5;250m \u001b[39m\u001b[34;01msklearn\u001b[39;00m\u001b[34;01m.\u001b[39;00m\u001b[34;01mfeature_extraction\u001b[39;00m\u001b[34;01m.\u001b[39;00m\u001b[34;01mtext\u001b[39;00m\u001b[38;5;250m \u001b[39m\u001b[38;5;28;01mimport\u001b[39;00m TfidfVectorizer\n\u001b[32m      2\u001b[39m vectorizer = TfidfVectorizer(max_features=\u001b[32m10000\u001b[39m)\n\u001b[32m----> \u001b[39m\u001b[32m3\u001b[39m X_train_vect = vectorizer.fit_transform(\u001b[43mX_train\u001b[49m)\n\u001b[32m      4\u001b[39m X_test_vect = vectorizer.transform(X_test)\n\u001b[32m      5\u001b[39m \u001b[38;5;28mprint\u001b[39m(\u001b[33m\"\u001b[39m\u001b[33mTF‑IDF vectorization completed.\u001b[39m\u001b[33m\"\u001b[39m)\n",
      "\u001b[31mNameError\u001b[39m: name 'X_train' is not defined"
     ]
    }
   ],
   "source": [
    "from sklearn.feature_extraction.text import TfidfVectorizer\n",
    "vectorizer = TfidfVectorizer(max_features=10000)\n",
    "X_train_vect = vectorizer.fit_transform(X_train)\n",
    "X_test_vect = vectorizer.transform(X_test)\n",
    "print(\"TF‑IDF vectorization completed.\")\n"
   ]
  },
  {
   "cell_type": "code",
   "execution_count": 26,
   "metadata": {},
   "outputs": [
    {
     "name": "stdout",
     "output_type": "stream",
     "text": [
      "XGBoost will use GPU acceleration.\n"
     ]
    }
   ],
   "source": [
    "# Random Forest (CPU)\n",
    "rf_clf = RandomForestClassifier(n_estimators=100, random_state=42)\n",
    "\n",
    "# XGBoost: Try to use GPU; if not available, use CPU.\n",
    "gpu_supported = True\n",
    "try:\n",
    "    # Try creating a dummy model with GPU parameters\n",
    "    _ = xgb.XGBClassifier(tree_method='gpu_hist')\n",
    "except xgb.core.XGBoostError:\n",
    "    gpu_supported = False\n",
    "\n",
    "if gpu_supported:\n",
    "    xgb_clf = xgb.XGBClassifier(n_estimators=50, learning_rate=0.1, max_depth=3, \n",
    "                                random_state=42, verbosity=1,\n",
    "                                tree_method='gpu_hist', predictor='gpu_predictor')\n",
    "    print(\"XGBoost will use GPU acceleration.\")\n",
    "else:\n",
    "    print(\"GPU support not available for XGBoost; using CPU version.\")\n",
    "    xgb_clf = xgb.XGBClassifier(n_estimators=50, learning_rate=0.1, max_depth=3, \n",
    "                                random_state=42, verbosity=1,\n",
    "                                tree_method='auto', predictor='cpu_predictor')\n",
    "\n",
    "# LinearSVC wrapped with CalibratedClassifierCV to obtain probabilities\n",
    "svm_base = LinearSVC(max_iter=1000, random_state=42)\n",
    "svm_calibrated = CalibratedClassifierCV(svm_base, cv=3)\n",
    "\n",
    "# Store base models in a dictionary for easy iteration\n",
    "base_models = {\n",
    "    'Random Forest': rf_clf,\n",
    "    'XGBoost': xgb_clf,\n",
    "    'Calibrated SVM': svm_calibrated\n",
    "}\n"
   ]
  },
  {
   "cell_type": "code",
   "execution_count": 28,
   "metadata": {},
   "outputs": [
    {
     "name": "stdout",
     "output_type": "stream",
     "text": [
      "Training base models:\n"
     ]
    },
    {
     "data": {
      "application/vnd.jupyter.widget-view+json": {
       "model_id": "2f7969c5886b4d1b9ac5e933707d9080",
       "version_major": 2,
       "version_minor": 0
      },
      "text/plain": [
       "Base models:   0%|          | 0/3 [00:00<?, ?it/s]"
      ]
     },
     "metadata": {},
     "output_type": "display_data"
    },
    {
     "name": "stdout",
     "output_type": "stream",
     "text": [
      "\n",
      "Starting training for Random Forest...\n",
      "Random Forest training completed in 18.80 minutes.\n",
      "\n",
      "Starting training for XGBoost...\n",
      "Error training XGBoost: [16:59:49] C:\\b\\abs_90_bwj_86a\\croot\\xgboost-split_1724073762025\\work\\src\\common\\common.h:174: XGBoost version not compiled with GPU support.\n",
      "XGBoost training completed in 0.01 minutes.\n",
      "\n",
      "Starting training for Calibrated SVM...\n"
     ]
    },
    {
     "name": "stderr",
     "output_type": "stream",
     "text": [
      "c:\\Users\\prana\\anaconda3\\Lib\\site-packages\\sklearn\\svm\\_classes.py:31: FutureWarning: The default value of `dual` will change from `True` to `'auto'` in 1.5. Set the value of `dual` explicitly to suppress the warning.\n",
      "  warnings.warn(\n",
      "c:\\Users\\prana\\anaconda3\\Lib\\site-packages\\sklearn\\svm\\_classes.py:31: FutureWarning: The default value of `dual` will change from `True` to `'auto'` in 1.5. Set the value of `dual` explicitly to suppress the warning.\n",
      "  warnings.warn(\n",
      "c:\\Users\\prana\\anaconda3\\Lib\\site-packages\\sklearn\\svm\\_classes.py:31: FutureWarning: The default value of `dual` will change from `True` to `'auto'` in 1.5. Set the value of `dual` explicitly to suppress the warning.\n",
      "  warnings.warn(\n"
     ]
    },
    {
     "name": "stdout",
     "output_type": "stream",
     "text": [
      "Calibrated SVM training completed in 0.10 minutes.\n",
      "All base models trained.\n"
     ]
    }
   ],
   "source": [
    "import time\n",
    "from tqdm.auto import tqdm\n",
    "\n",
    "print(\"Training base models:\")\n",
    "for name, clf in tqdm(base_models.items(), desc=\"Base models\", total=len(base_models)):\n",
    "    print(f\"\\nStarting training for {name}...\")\n",
    "    start_time = time.time()\n",
    "    try:\n",
    "        clf.fit(X_train_vect, y_train)\n",
    "    except Exception as e:\n",
    "        print(f\"Error training {name}: {e}\")\n",
    "    elapsed = time.time() - start_time\n",
    "    print(f\"{name} training completed in {elapsed/60:.2f} minutes.\")\n",
    "print(\"All base models trained.\")\n"
   ]
  },
  {
   "cell_type": "code",
   "execution_count": 30,
   "metadata": {},
   "outputs": [
    {
     "name": "stdout",
     "output_type": "stream",
     "text": [
      "Warning: Model 'XGBoost' is not fitted; skipping it in ensemble predictions.\n",
      "Ensemble Accuracy on test set: 94.50%\n",
      "\n",
      "Classification Report:\n",
      "              precision    recall  f1-score   support\n",
      "\n",
      "           0       0.88      0.64      0.74      9614\n",
      "           1       0.95      0.99      0.97     69628\n",
      "\n",
      "    accuracy                           0.95     79242\n",
      "   macro avg       0.91      0.81      0.85     79242\n",
      "weighted avg       0.94      0.95      0.94     79242\n",
      "\n",
      "\n",
      "Confusion Matrix:\n",
      "[[ 6129  3485]\n",
      " [  870 68758]]\n",
      "Warning: Model 'XGBoost' is not fitted; skipping it in ensemble predictions.\n"
     ]
    },
    {
     "data": {
      "image/png": "[encoded data removed]",
      "text/plain": [
       "<Figure size 800x600 with 1 Axes>"
      ]
     },
     "metadata": {},
     "output_type": "display_data"
    }
   ],
   "source": [
    "from sklearn.exceptions import NotFittedError\n",
    "from sklearn.utils.validation import check_is_fitted\n",
    "\n",
    "def ensemble_predict_proba(X):\n",
    "    prob_sum = np.zeros((X.shape[0], 2))  # for binary classification\n",
    "    count = 0\n",
    "    for name, clf in base_models.items():\n",
    "        try:\n",
    "            # Check if the model is fitted\n",
    "            check_is_fitted(clf)\n",
    "            prob = clf.predict_proba(X)\n",
    "            prob_sum += prob\n",
    "            count += 1\n",
    "        except NotFittedError:\n",
    "            print(f\"Warning: Model '{name}' is not fitted; skipping it in ensemble predictions.\")\n",
    "    if count == 0:\n",
    "        raise NotFittedError(\"None of the base models are fitted.\")\n",
    "    return prob_sum / count\n",
    "\n",
    "def ensemble_predict(X):\n",
    "    proba = ensemble_predict_proba(X)\n",
    "    return np.argmax(proba, axis=1)\n",
    "\n",
    "# Now get ensemble predictions on the test set\n",
    "y_pred = ensemble_predict(X_test_vect)\n",
    "\n",
    "# Evaluate the ensemble predictions\n",
    "accuracy = accuracy_score(y_test, y_pred)\n",
    "print(\"Ensemble Accuracy on test set: {:.2f}%\".format(accuracy * 100))\n",
    "\n",
    "print(\"\\nClassification Report:\")\n",
    "print(classification_report(y_test, y_pred))\n",
    "\n",
    "print(\"\\nConfusion Matrix:\")\n",
    "print(confusion_matrix(y_test, y_pred))\n",
    "\n",
    "# Compute and plot the ROC AUC curve for the positive class (assuming class 1 is positive)\n",
    "y_proba = ensemble_predict_proba(X_test_vect)[:, 1]\n",
    "roc_auc = roc_auc_score(y_test, y_proba)\n",
    "fpr, tpr, _ = roc_curve(y_test, y_proba)\n",
    "\n",
    "plt.figure(figsize=(8,6))\n",
    "plt.plot(fpr, tpr, label=f\"Ensemble ROC Curve (AUC = {roc_auc:.2f})\")\n",
    "plt.plot([0, 1], [0, 1], 'k--', label=\"Random Guess\")\n",
    "plt.xlabel(\"False Positive Rate\")\n",
    "plt.ylabel(\"True Positive Rate\")\n",
    "plt.title(\"ROC Curve\")\n",
    "plt.legend(loc=\"lower right\")\n",
    "plt.grid(True)\n",
    "plt.show()\n"
   ]
  },
  {
   "cell_type": "code",
   "execution_count": 31,
   "metadata": {},
   "outputs": [
    {
     "name": "stdout",
     "output_type": "stream",
     "text": [
      "Ensemble model saved to ensemble_model.pkl\n"
     ]
    }
   ],
   "source": [
    "import joblib\n",
    "\n",
    "def save_ensemble_model(base_models, vectorizer, filename=\"ensemble_model.pkl\"):\n",
    "    \"\"\"\n",
    "    Save the ensemble model components (base models and vectorizer) to disk.\n",
    "    \n",
    "    Parameters:\n",
    "        base_models (dict): A dictionary containing the base models.\n",
    "        vectorizer (TfidfVectorizer): The fitted TF‑IDF vectorizer.\n",
    "        filename (str): The output filename (default \"ensemble_model.pkl\").\n",
    "    \"\"\"\n",
    "    ensemble_data = {\n",
    "        \"base_models\": base_models,\n",
    "        \"vectorizer\": vectorizer\n",
    "    }\n",
    "    joblib.dump(ensemble_data, filename)\n",
    "    print(f\"Ensemble model saved to {filename}\")\n",
    "\n",
    "# Example usage:\n",
    "save_ensemble_model(base_models, vectorizer, \"ensemble_model.pkl\")\n"
   ]
  },
  {
   "cell_type": "code",
   "execution_count": 32,
   "metadata": {},
   "outputs": [
    {
     "data": {
      "text/html": [
       "<a href='ensemble_model.pkl' target='_blank'>ensemble_model.pkl</a><br>"
      ],
      "text/plain": [
       "c:\\Users\\prana\\Desktop\\AI Lab Project\\ensemble_model.pkl"
      ]
     },
     "metadata": {},
     "output_type": "display_data"
    }
   ],
   "source": [
    "from IPython.display import FileLink\n",
    "display(FileLink(\"ensemble_model.pkl\"))\n"
   ]
  },
  {
   "cell_type": "code",
   "execution_count": 3,
   "metadata": {},
   "outputs": [
    {
     "ename": "ModuleNotFoundError",
     "evalue": "No module named 'xgboost'",
     "output_type": "error",
     "traceback": [
      "\u001b[1;31m---------------------------------------------------------------------------\u001b[0m",
      "\u001b[1;31mModuleNotFoundError\u001b[0m                       Traceback (most recent call last)",
      "Cell \u001b[1;32mIn[3], line 1\u001b[0m\n\u001b[1;32m----> 1\u001b[0m \u001b[38;5;28;01mimport\u001b[39;00m \u001b[38;5;21;01mxgboost\u001b[39;00m \u001b[38;5;28;01mas\u001b[39;00m \u001b[38;5;21;01mxgb\u001b[39;00m\n",
      "\u001b[1;31mModuleNotFoundError\u001b[0m: No module named 'xgboost'"
     ]
    }
   ],
   "source": [
    "import xgboost as xgb"
   ]
  },
  {
   "cell_type": "code",
   "execution_count": null,
   "metadata": {},
   "outputs": [
    {
     "name": "stderr",
     "output_type": "stream",
     "text": [
      "c:\\Users\\Shivansh\\anaconda3\\Lib\\site-packages\\sklearn\\base.py:376: InconsistentVersionWarning: Trying to unpickle estimator DecisionTreeClassifier from version 1.4.2 when using version 1.5.1. This might lead to breaking code or invalid results. Use at your own risk. For more info please refer to:\n",
      "https://scikit-learn.org/stable/model_persistence.html#security-maintainability-limitations\n",
      "  warnings.warn(\n",
      "c:\\Users\\Shivansh\\anaconda3\\Lib\\site-packages\\sklearn\\base.py:376: InconsistentVersionWarning: Trying to unpickle estimator RandomForestClassifier from version 1.4.2 when using version 1.5.1. This might lead to breaking code or invalid results. Use at your own risk. For more info please refer to:\n",
      "https://scikit-learn.org/stable/model_persistence.html#security-maintainability-limitations\n",
      "  warnings.warn(\n"
     ]
    },
    {
     "name": "stdout",
     "output_type": "stream",
     "text": [
      "Error loading the model: No module named 'xgboost'\n"
     ]
    },
    {
     "ename": "NameError",
     "evalue": "name 'vectorizer' is not defined",
     "output_type": "error",
     "traceback": [
      "\u001b[1;31m---------------------------------------------------------------------------\u001b[0m",
      "\u001b[1;31mNameError\u001b[0m                                 Traceback (most recent call last)",
      "Cell \u001b[1;32mIn[1], line 62\u001b[0m\n\u001b[0;32m     60\u001b[0m \u001b[38;5;66;03m# Example usage: classify a user-entered review without retraining the model.\u001b[39;00m\n\u001b[0;32m     61\u001b[0m input_review \u001b[38;5;241m=\u001b[39m \u001b[38;5;28minput\u001b[39m(\u001b[38;5;124m\"\u001b[39m\u001b[38;5;124mEnter a review: \u001b[39m\u001b[38;5;124m\"\u001b[39m)\n\u001b[1;32m---> 62\u001b[0m prediction \u001b[38;5;241m=\u001b[39m classify_review(input_review)\n\u001b[0;32m     63\u001b[0m \u001b[38;5;28mprint\u001b[39m(\u001b[38;5;124mf\u001b[39m\u001b[38;5;124m\"\u001b[39m\u001b[38;5;124mPredicted Sentiment: \u001b[39m\u001b[38;5;132;01m{\u001b[39;00mprediction\u001b[38;5;132;01m}\u001b[39;00m\u001b[38;5;124m\"\u001b[39m)\n",
      "Cell \u001b[1;32mIn[1], line 53\u001b[0m, in \u001b[0;36mclassify_review\u001b[1;34m(review)\u001b[0m\n\u001b[0;32m     43\u001b[0m \u001b[38;5;250m\u001b[39m\u001b[38;5;124;03m\"\"\"\u001b[39;00m\n\u001b[0;32m     44\u001b[0m \u001b[38;5;124;03mClassify a new review using the saved ensemble model.\u001b[39;00m\n\u001b[0;32m     45\u001b[0m \u001b[38;5;124;03m\u001b[39;00m\n\u001b[1;32m   (...)\u001b[0m\n\u001b[0;32m     50\u001b[0m \u001b[38;5;124;03m    str: Predicted sentiment (\"Positive\" or \"Negative\").\u001b[39;00m\n\u001b[0;32m     51\u001b[0m \u001b[38;5;124;03m\"\"\"\u001b[39;00m\n\u001b[0;32m     52\u001b[0m \u001b[38;5;66;03m# Transform the input review using the saved TF-IDF vectorizer.\u001b[39;00m\n\u001b[1;32m---> 53\u001b[0m review_vect \u001b[38;5;241m=\u001b[39m vectorizer\u001b[38;5;241m.\u001b[39mtransform([review])\n\u001b[0;32m     54\u001b[0m \u001b[38;5;66;03m# Get the ensemble prediction.\u001b[39;00m\n\u001b[0;32m     55\u001b[0m predicted_class \u001b[38;5;241m=\u001b[39m ensemble_predict(review_vect)[\u001b[38;5;241m0\u001b[39m]\n",
      "\u001b[1;31mNameError\u001b[0m: name 'vectorizer' is not defined"
     ]
    },
    {
     "ename": "",
     "evalue": "",
     "output_type": "error",
     "traceback": [
      "\u001b[1;31mThe Kernel crashed while executing code in the current cell or a previous cell. \n",
      "\u001b[1;31mPlease review the code in the cell(s) to identify a possible cause of the failure. \n",
      "\u001b[1;31mClick <a href='https://aka.ms/vscodeJupyterKernelCrash'>here</a> for more info. \n",
      "\u001b[1;31mView Jupyter <a href='command:jupyter.viewOutput'>log</a> for further details."
     ]
    }
   ],
   "source": [
    "import joblib\n",
    "import numpy as np\n",
    "from sklearn.exceptions import NotFittedError # type: ignore\n",
    "\n",
    "# Load the saved ensemble model and vectorizer from the pkl file.\n",
    "try:\n",
    "    model_data = joblib.load(\"ensemble_model.pkl\")\n",
    "    base_models = model_data[\"base_models\"]\n",
    "    vectorizer = model_data[\"vectorizer\"]\n",
    "    print(\"Model loaded successfully.\")\n",
    "except Exception as e:\n",
    "    print(f\"Error loading the model: {e}\")\n",
    "    exit()\n",
    "\n",
    "def ensemble_predict_proba(X):\n",
    "    \"\"\"\n",
    "    Compute the average predicted probabilities from all fitted base models.\n",
    "    Models that are not fitted are skipped.\n",
    "    \"\"\"\n",
    "    prob_sum = np.zeros((X.shape[0], 2))  # For binary classification (2 classes)\n",
    "    count = 0\n",
    "    for clf in base_models.values():\n",
    "        try:\n",
    "            prob_sum += clf.predict_proba(X)\n",
    "            count += 1\n",
    "        except NotFittedError:\n",
    "            # Silently skip models that are not fitted.\n",
    "            continue\n",
    "        except Exception:\n",
    "            continue\n",
    "    if count == 0:\n",
    "        raise ValueError(\"None of the models are fitted.\")\n",
    "    return prob_sum / count\n",
    "\n",
    "def ensemble_predict(X):\n",
    "    \"\"\"\n",
    "    Predict class labels based on the averaged predicted probabilities.\n",
    "    \"\"\"\n",
    "    proba = ensemble_predict_proba(X)\n",
    "    return np.argmax(proba, axis=1)\n",
    "\n",
    "def classify_review(review):\n",
    "    \"\"\"\n",
    "    Classify a new review using the saved ensemble model.\n",
    "    \n",
    "    Parameters:\n",
    "        review (str): The input review text.\n",
    "    \n",
    "    Returns:\n",
    "        str: Predicted sentiment (\"Positive\" or \"Negative\").\n",
    "    \"\"\"\n",
    "    # Transform the input review using the saved TF-IDF vectorizer.\n",
    "    review_vect = vectorizer.transform([review])\n",
    "    # Get the ensemble prediction.\n",
    "    predicted_class = ensemble_predict(review_vect)[0]\n",
    "    # Map numeric prediction to human-readable label.\n",
    "    class_mapping = {0: \"Negative\", 1: \"Positive\"}\n",
    "    return class_mapping.get(predicted_class, \"Unknown\")\n",
    "\n",
    "# Example usage: classify a user-entered review without retraining the model.\n",
    "input_review = input(\"Enter a review: \")\n",
    "prediction = classify_review(input_review)\n",
    "print(f\"Predicted Sentiment: {prediction}\")\n"
   ]
  },
  {
   "cell_type": "code",
   "execution_count": null,
   "metadata": {},
   "outputs": [],
   "source": []
  }
 ],
 "metadata": {
  "kernelspec": {
   "display_name": "base",
   "language": "python",
   "name": "python3"
  },
  "language_info": {
   "codemirror_mode": {
    "name": "ipython",
    "version": 3
   },
   "file_extension": ".py",
   "mimetype": "text/x-python",
   "name": "python",
   "nbconvert_exporter": "python",
   "pygments_lexer": "ipython3",
   "version": "3.12.7"
  }
 },
 "nbformat": 4,
 "nbformat_minor": 2
}
